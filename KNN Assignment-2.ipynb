{
 "cells": [
  {
   "cell_type": "markdown",
   "id": "b627f318-9b6f-4b56-a2c1-c31d57f68b5b",
   "metadata": {},
   "source": [
    "# KNN Assignment-2"
   ]
  },
  {
   "cell_type": "markdown",
   "id": "85312363-8bd8-4910-b8f8-81b6e83a117f",
   "metadata": {},
   "source": [
    "Q1. What is the main difference between the Euclidean distance metric and the Manhattan distance\n",
    "metric in KNN? How might this difference affect the performance of a KNN classifier or regressor?"
   ]
  },
  {
   "cell_type": "markdown",
   "id": "b2ec46dd-0b2c-4a66-b971-aa70df29c1f6",
   "metadata": {},
   "source": [
    "The main difference between the Euclidean distance and the Manhattan distance lies in how they calculate the distance between points.Euclidean distance calculates  straight line distance.Manhattan distance measures the distance by summing the absolute differences of coordinates.\n",
    "\n",
    "This difference can affect KNN performance in several ways:\n",
    "\n",
    "1) Sensitivity to outliers and feature scales: Euclidean distance is sensitive to outliers and differences in feature scales due to its squared differences calculation, while Manhattan distance may be more robust in such cases.\n",
    "\n",
    "2) Data structure: Manhattan distance may perform better in grid-like structures, while Euclidean distance is suited for continuous spaces with radial relationships."
   ]
  },
  {
   "cell_type": "markdown",
   "id": "964742d4-96b2-4f93-930e-c52ed76d9ff5",
   "metadata": {},
   "source": [
    "Q2. How do you choose the optimal value of k for a KNN classifier or regressor? What techniques can be\n",
    "used to determine the optimal k value?"
   ]
  },
  {
   "cell_type": "markdown",
   "id": "81f743ee-eb37-4ab7-b483-0ceddc49ae7d",
   "metadata": {},
   "source": [
    "1) Use cross-validation or grid search to evaluate different \n",
    "𝑘 values and select the one with the best performance.\n",
    "\n",
    "2) Consider techniques like the elbow method or distance-based methods to identify an optimal \n",
    "𝑘."
   ]
  },
  {
   "cell_type": "markdown",
   "id": "21855c35-3f8a-431b-85b2-53a8b8b503f8",
   "metadata": {},
   "source": [
    "Q3. How does the choice of distance metric affect the performance of a KNN classifier or regressor? In\n",
    "what situations might you choose one distance metric over the other?"
   ]
  },
  {
   "cell_type": "markdown",
   "id": "8e1a7c84-56e0-4e61-b531-31b46e03ea16",
   "metadata": {},
   "source": [
    "\n",
    "The choice of distance metric affects KNN performance significantly:\n",
    "\n",
    "1) Euclidean Distance: Suitable for continuous data with a radial relationship between features and the target. Sensitive to feature scale differences and outliers.\n",
    "\n",
    "2) Manhattan Distance: Appropriate for categorical or grid-like data. Less sensitive to feature scale differences and outliers."
   ]
  },
  {
   "cell_type": "markdown",
   "id": "1b9955d2-2afa-4494-98a1-6a6388b1cbfe",
   "metadata": {},
   "source": [
    "Q4. What are some common hyperparameters in KNN classifiers and regressors, and how do they affect\n",
    "the performance of the model? How might you go about tuning these hyperparameters to improve\n",
    "model performance?"
   ]
  },
  {
   "cell_type": "markdown",
   "id": "89c765ca-9d06-40b0-a515-02143024b00d",
   "metadata": {},
   "source": [
    "1) Common hyperparameters in KNN classifiers and regressors are:\n",
    "\n",
    ". Number of Neighbors (\n",
    "𝑘 ): Determines how many neighbors to consider for prediction.\n",
    "\n",
    ". Distance Metric: Specifies the method for measuring distance between points.\n",
    "\n",
    ". Weighting Scheme: Determines how neighbors' contributions are weighted.\n",
    "\n",
    ". Algorithm: Specifies the method used to organize data points for efficient search.\n",
    "\n",
    ". Leaf Size (for tree-based algorithms): Specifies the maximum number of points in a leaf node.\n",
    "\n",
    "2) To tune these hyperparameters:\n",
    "\n",
    ". Grid Search or Random Search: Systematically explore hyperparameter combinations.\n",
    "\n",
    ". Cross-Validation: Assess performance on training data using cross-validation.\n",
    "\n",
    ". Feature Scaling: Scale features to improve model stability.\n",
    "\n",
    ". Feature Selection or Dimensionality Reduction: Reduce dimensionality for efficiency."
   ]
  },
  {
   "cell_type": "markdown",
   "id": "0073aca3-b640-46af-940c-fa296a3baf6e",
   "metadata": {},
   "source": [
    "Q5. How does the size of the training set affect the performance of a KNN classifier or regressor? What\n",
    "techniques can be used to optimize the size of the training set?"
   ]
  },
  {
   "cell_type": "markdown",
   "id": "8cf3a520-6e4e-4186-a302-ec4c2a2e357b",
   "metadata": {},
   "source": [
    "\n",
    "\n",
    ". Small Training Set: Can lead to underfitting due to insufficient data.\n",
    "\n",
    ". Large Training Set: Reduces overfitting and improves generalization but increases computational complexity.\n",
    "\n",
    "To optimize training set size:\n",
    "\n",
    ". Use cross-validation and learning curves to assess performance.\n",
    "\n",
    ". Find the balance between bias and variance for optimal performance."
   ]
  },
  {
   "cell_type": "markdown",
   "id": "59bb9f63-10c7-4025-bd21-5b8e0f1f3cf5",
   "metadata": {},
   "source": [
    "Q6. What are some potential drawbacks of using KNN as a classifier or regressor? How might you\n",
    "overcome these drawbacks to improve the performance of the model?"
   ]
  },
  {
   "cell_type": "markdown",
   "id": "c70f40e0-886b-42fc-afa0-c2608ddfd64e",
   "metadata": {},
   "source": [
    "\n",
    "KNN drawbacks include complexity, sensitivity to noise, and the curse of dimensionality. To improve, consider dimensionality reduction, feature scaling, weighted voting, algorithm optimization, ensemble methods, and data preprocessing."
   ]
  },
  {
   "cell_type": "code",
   "execution_count": null,
   "id": "f4c430db-1f55-4b32-919a-84326e8f6a0c",
   "metadata": {},
   "outputs": [],
   "source": []
  }
 ],
 "metadata": {
  "kernelspec": {
   "display_name": "Python 3 (ipykernel)",
   "language": "python",
   "name": "python3"
  },
  "language_info": {
   "codemirror_mode": {
    "name": "ipython",
    "version": 3
   },
   "file_extension": ".py",
   "mimetype": "text/x-python",
   "name": "python",
   "nbconvert_exporter": "python",
   "pygments_lexer": "ipython3",
   "version": "3.10.8"
  }
 },
 "nbformat": 4,
 "nbformat_minor": 5
}
